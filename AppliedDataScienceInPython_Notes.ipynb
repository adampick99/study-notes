{
  "nbformat": 4,
  "nbformat_minor": 0,
  "metadata": {
    "colab": {
      "provenance": [],
      "collapsed_sections": [
        "5pNTjkwr3YHe"
      ],
      "authorship_tag": "ABX9TyMmorLoTRcIp3weeviO32xV",
      "include_colab_link": true
    },
    "kernelspec": {
      "name": "python3",
      "display_name": "Python 3"
    },
    "language_info": {
      "name": "python"
    }
  },
  "cells": [
    {
      "cell_type": "markdown",
      "metadata": {
        "id": "view-in-github",
        "colab_type": "text"
      },
      "source": [
        "<a href=\"https://colab.research.google.com/github/adampick99/study-notes/blob/main/AppliedDataScienceInPython_Notes.ipynb\" target=\"_parent\"><img src=\"https://colab.research.google.com/assets/colab-badge.svg\" alt=\"Open In Colab\"/></a>"
      ]
    },
    {
      "cell_type": "markdown",
      "source": [
        "# Applied Data Science in Python - University of Michigan\n",
        "\n",
        "Start: 17/06/2023 14:20\n",
        "\n",
        "## Week 1 - Fundamentals of Data Manipulation with Python\n",
        "\n",
        "This course will introduce the learner to the basics of the python programming environment, including fundamental python programming techniques such as **lambdas, reading and manipulating csv files, and the numpy library**. The course will introduce data manipulation and cleaning techniques using the popular python pandas data science library and introduce the abstraction of the Series and\n",
        "DataFrame as the central data structures for data analysis, along with tutorials on how to use functions such as **groupby, merge, and pivot tables** effectively. By the end of this course, students **will be able to take tabular data, clean it, manipulate it, and run basic inferential statistical analyses.**"
      ],
      "metadata": {
        "id": "TzzKp7oPl_Gp"
      }
    },
    {
      "cell_type": "markdown",
      "source": [
        "## Python Functions\n",
        "\n",
        "You can create a function with optional parameters by defining the input as var = None. This declaration must happen AFTER the required variables in the def."
      ],
      "metadata": {
        "id": "zR2-zMkWnRKE"
      }
    },
    {
      "cell_type": "code",
      "source": [
        "def add_numbers(x, y, z=None): # This can add a maximum of 3 numbers, and a minimum of 2.\n",
        "  if z == None:\n",
        "    return x+y\n",
        "  else:\n",
        "    return x+y+z"
      ],
      "metadata": {
        "id": "6r_GVJkAno5n"
      },
      "execution_count": null,
      "outputs": []
    },
    {
      "cell_type": "code",
      "source": [
        "add_numbers(2,4)"
      ],
      "metadata": {
        "colab": {
          "base_uri": "https://localhost:8080/"
        },
        "id": "_N1S4BaCoOm8",
        "outputId": "b1770dc3-d8e3-4028-c8ef-f76b6430191a"
      },
      "execution_count": null,
      "outputs": [
        {
          "output_type": "execute_result",
          "data": {
            "text/plain": [
              "6"
            ]
          },
          "metadata": {},
          "execution_count": 3
        }
      ]
    },
    {
      "cell_type": "markdown",
      "source": [
        "The implication of assigning a variable z = None, it means that this is the default value used if this parameter isn't passed through the function. It can be manually chosen as None or you can simply not enter any value."
      ],
      "metadata": {
        "id": "mlO7PSa-pjlZ"
      }
    },
    {
      "cell_type": "markdown",
      "source": [
        "The type() function can be used to check the data type of a python object. Tuples, lists and dictionaries are what we care about.\n",
        "\n",
        "A tuple is a sequence of variables which is immutable (can't be changed after declaring).\n",
        "\n",
        "Tuples are declared by using ( ), lists by [ ], and dictionaries by { }, for example: {key: value, key2: value}.\n",
        "\n",
        "key, key2 can be strings, float, integers, you name it (I think).\n",
        "\n",
        "## Manipulating Strings\n",
        "### Slicing\n",
        "\n",
        "In Python, the indexing operator [0, 5] will give 5 different outputs, but the value in index [5] won't be output, it's exclusive, not inclusive.\n",
        "\n",
        "This is the same for going backwards. [-5:-3] will output the 5th last and 4th last values, but not the 3rd last as it's exclusive.\n",
        "\n",
        "[:3] is everything up to the 3rd index, without the 3rd index variable.\n",
        "\n",
        "[3:] is everything from and including the 3rd index value (4th value as indexing begins at 0).\n",
        "\n",
        "### Split - Regular Expression Evaluation (RegEx)\n",
        "(Split strings based on substrings)\n",
        "\n"
      ],
      "metadata": {
        "id": "llr-NPRhrKrP"
      }
    },
    {
      "cell_type": "code",
      "source": [
        "firstname = 'Christopher'\n",
        "lastname = 'Brooks'\n",
        "\n",
        "print(firstname + ' ' + lastname)\n",
        "print(firstname * 3)\n",
        "print('Chris' in firstname) # The in operator can be used to search in a string, and here we're searching for 'Chris'"
      ],
      "metadata": {
        "colab": {
          "base_uri": "https://localhost:8080/"
        },
        "id": "A3gQ031dt1ww",
        "outputId": "2e984e22-d843-4474-b72c-7d47ab27db36"
      },
      "execution_count": null,
      "outputs": [
        {
          "output_type": "stream",
          "name": "stdout",
          "text": [
            "Christopher Brooks\n",
            "ChristopherChristopherChristopher\n",
            "True\n"
          ]
        }
      ]
    },
    {
      "cell_type": "code",
      "source": [
        "firstname = 'Christopher Arthur Hansen Brooks'.split(' ')[0]  # [0] selects the first element of the list\n",
        "lastname = 'Christopher Arthur Hansen Brooks'.split(' ')[-1]  # [-1] selects the last element of the list\n",
        "print(firstname)\n",
        "print(lastname)"
      ],
      "metadata": {
        "colab": {
          "base_uri": "https://localhost:8080/"
        },
        "id": "M0Hl9l8puAEe",
        "outputId": "4019dd6e-a3a8-46dd-9f3f-c8f8bbec7cda"
      },
      "execution_count": null,
      "outputs": [
        {
          "output_type": "stream",
          "name": "stdout",
          "text": [
            "Christopher\n",
            "Brooks\n"
          ]
        }
      ]
    },
    {
      "cell_type": "markdown",
      "source": [
        "Make sure to convert objects to strings before concatenating using the + 'string' method."
      ],
      "metadata": {
        "id": "D_f_X1juuFQ9"
      }
    },
    {
      "cell_type": "markdown",
      "source": [
        "## Dictionaries\n",
        "\n",
        "Dictionaries are objects that store keys and values. They are defined by using curly brackets { }. You can use the **.values()** method to output just the values, not the keys. To output just the keys, use **.keys()**. To output both, use **.items()**.\n",
        "\n",
        "You retrieve the associated value assigned to a label/key by simply indexing at the label/key value. So if dict = {'Jeff': 21} is the dictionary, then dict['Jeff'] returns 21."
      ],
      "metadata": {
        "id": "yCWWPP_uGnU-"
      }
    },
    {
      "cell_type": "code",
      "source": [
        "x = {'Christopher Brooks': 'brooksch@umich.edu', 'Bill Gates': 'billg@microsoft.com'}\n",
        "\n",
        "for key, value in x.items():\n",
        "    print(key)\n",
        "    print(value)\n",
        "\n",
        "# This will output each key, followed by it's corresponding value."
      ],
      "metadata": {
        "colab": {
          "base_uri": "https://localhost:8080/"
        },
        "id": "6sOk8_nNZ3om",
        "outputId": "4f922024-0f94-4e1c-ce0b-a9677751eba5"
      },
      "execution_count": null,
      "outputs": [
        {
          "output_type": "stream",
          "name": "stdout",
          "text": [
            "Christopher Brooks\n",
            "brooksch@umich.edu\n",
            "Bill Gates\n",
            "billg@microsoft.com\n"
          ]
        }
      ]
    },
    {
      "cell_type": "markdown",
      "source": [
        "## Tuples\n",
        "\n",
        "You can create tuples (not dictionaries) from already created variables. Remember, these are immutable. See below:"
      ],
      "metadata": {
        "id": "xNEBepcfaWz1"
      }
    },
    {
      "cell_type": "code",
      "source": [
        "# Say we have a list\n",
        "list = ('Tyrion', 'Lannister', 'Targaryen')\n",
        "\n",
        "# We turn this list into a tuple by declaring the tuple key name and feeding the list in.\n",
        "fore, sur, house = list"
      ],
      "metadata": {
        "id": "LF6l6mVtaZPa"
      },
      "execution_count": null,
      "outputs": []
    },
    {
      "cell_type": "markdown",
      "source": [
        "## More on String Manipulation\n",
        "\n",
        "We can use the format() function to fill in string templates using other objects. Take a look:\n",
        "\n"
      ],
      "metadata": {
        "id": "4JJ6PROPbx2H"
      }
    },
    {
      "cell_type": "code",
      "source": [
        "sales_record = {\n",
        "    'price': 3.24,\n",
        "    'num_items': 4,\n",
        "    'person': 'Chris'}\n",
        "\n",
        "sales_statement = '{} bought {} item(s) at a price of {} each for a total of {}'\n",
        "\n",
        "# The format function works on a template string to replace sections of the string with values/strings from another Python object (sales_record here)\n",
        "print(sales_statement.format(sales_record['person'],\n",
        "                             sales_record['num_items'],\n",
        "                             sales_record['price'],\n",
        "                             sales_record['num_items'] * sales_record['price']))"
      ],
      "metadata": {
        "colab": {
          "base_uri": "https://localhost:8080/"
        },
        "id": "lFT7GqtmcAGg",
        "outputId": "0c60287d-dae5-427d-bf64-a9e2fb2775cd"
      },
      "execution_count": null,
      "outputs": [
        {
          "output_type": "stream",
          "name": "stdout",
          "text": [
            "Chris bought 4 item(s) at a price of 3.24 each for a total of 12.96\n"
          ]
        }
      ]
    },
    {
      "cell_type": "markdown",
      "source": [
        "## Reading and Writing CSV Files\n",
        "\n",
        "Let's import our datafile mpg.csv, which contains fuel economy data for 234 cars.\n",
        "\n",
        "mpg : miles per gallon\n",
        "class : car classification\n",
        "cty : city mpg\n",
        "cyl : # of cylinders\n",
        "displ : engine displacement in liters\n",
        "drv : f = front-wheel drive, r = rear wheel drive, 4 = 4wd\n",
        "fl : fuel (e = ethanol E85, d = diesel, r = regular, p = premium, c = CNG)\n",
        "hwy : highway mpg\n",
        "manufacturer : automobile manufacturer\n",
        "model : model of car\n",
        "trans : type of transmission\n",
        "year : model year"
      ],
      "metadata": {
        "id": "XkySGAB1kHbu"
      }
    },
    {
      "cell_type": "code",
      "source": [
        "import csv\n",
        "\n",
        "#with open('datasets/mpg.csv') as csvfile:\n",
        "    #mpg = list(csv.DictReader(csvfile))\n",
        "\n",
        "#mpg[:3]  # The first three dictionaries in our list."
      ],
      "metadata": {
        "id": "kjOvR2_okNxF",
        "colab": {
          "base_uri": "https://localhost:8080/",
          "height": 235
        },
        "outputId": "8aad3eac-7bc9-42da-fa57-850fa0b1dd4b"
      },
      "execution_count": null,
      "outputs": [
        {
          "output_type": "error",
          "ename": "FileNotFoundError",
          "evalue": "ignored",
          "traceback": [
            "\u001b[0;31m---------------------------------------------------------------------------\u001b[0m",
            "\u001b[0;31mFileNotFoundError\u001b[0m                         Traceback (most recent call last)",
            "\u001b[0;32m<ipython-input-10-5ac6b355daf4>\u001b[0m in \u001b[0;36m<cell line: 3>\u001b[0;34m()\u001b[0m\n\u001b[1;32m      1\u001b[0m \u001b[0;32mimport\u001b[0m \u001b[0mcsv\u001b[0m\u001b[0;34m\u001b[0m\u001b[0;34m\u001b[0m\u001b[0m\n\u001b[1;32m      2\u001b[0m \u001b[0;34m\u001b[0m\u001b[0m\n\u001b[0;32m----> 3\u001b[0;31m \u001b[0;32mwith\u001b[0m \u001b[0mopen\u001b[0m\u001b[0;34m(\u001b[0m\u001b[0;34m'datasets/mpg.csv'\u001b[0m\u001b[0;34m)\u001b[0m \u001b[0;32mas\u001b[0m \u001b[0mcsvfile\u001b[0m\u001b[0;34m:\u001b[0m\u001b[0;34m\u001b[0m\u001b[0;34m\u001b[0m\u001b[0m\n\u001b[0m\u001b[1;32m      4\u001b[0m     \u001b[0mmpg\u001b[0m \u001b[0;34m=\u001b[0m \u001b[0mlist\u001b[0m\u001b[0;34m(\u001b[0m\u001b[0mcsv\u001b[0m\u001b[0;34m.\u001b[0m\u001b[0mDictReader\u001b[0m\u001b[0;34m(\u001b[0m\u001b[0mcsvfile\u001b[0m\u001b[0;34m)\u001b[0m\u001b[0;34m)\u001b[0m\u001b[0;34m\u001b[0m\u001b[0;34m\u001b[0m\u001b[0m\n\u001b[1;32m      5\u001b[0m \u001b[0;34m\u001b[0m\u001b[0m\n",
            "\u001b[0;31mFileNotFoundError\u001b[0m: [Errno 2] No such file or directory: 'datasets/mpg.csv'"
          ]
        }
      ]
    },
    {
      "cell_type": "markdown",
      "source": [
        "**csv.Dictreader has read in each row of our csv file as a dictionary.** len shows that our list is comprised of 234 dictionaries. The column i becomes the key for the i'th row value."
      ],
      "metadata": {
        "id": "u1QAABSAkapX"
      }
    },
    {
      "cell_type": "markdown",
      "source": [
        "## Advanced Python Objects\n",
        "\n",
        "### Object Oriented Programming\n",
        "\n",
        "Python Documentation will explain this much better, but OOP isn't really worth studying yet for Data Science.\n",
        "\n",
        "### Maps - map()\n",
        "\n",
        "The map function is one of the bases for functional programming in Python.\n",
        "\n",
        "map(function, iterable, ...)\n",
        "\n",
        "This function allows you to apply a function over each iterate of the iteration.\n",
        "\n",
        "The map function returns a map object, not just the output values, so it's not necessarily outputting what you want to see immediately - you can iterate over the map object to find each value however. It's commonly used when working with Big Data because it has good memory management.\n",
        "\n",
        "\n",
        "## List Comprehensions\n",
        "\n",
        "List comprehension offers a shorter syntax when you want to create a new list based on the values of an existing list.\n",
        "\n",
        "Example:\n",
        "\n",
        "Based on a list of fruits, you want a new list, containing only the fruits with the letter \"a\" in the name.\n",
        "\n",
        "Without list comprehension you will have to write a for statement with a conditional test inside:"
      ],
      "metadata": {
        "id": "D0cwl0Zjk-2B"
      }
    },
    {
      "cell_type": "code",
      "source": [
        "fruits = [\"apple\", \"banana\", \"cherry\", \"kiwi\", \"mango\"]\n",
        "newlist = []\n",
        "\n",
        "for x in fruits:\n",
        "  if \"a\" in x:\n",
        "    newlist.append(x)\n",
        "\n",
        "print(newlist)"
      ],
      "metadata": {
        "id": "4_Pi9gX-um-H"
      },
      "execution_count": null,
      "outputs": []
    },
    {
      "cell_type": "markdown",
      "source": [
        "With list comprehension you can do all that with only one line of code:"
      ],
      "metadata": {
        "id": "LDkMAncNuoeG"
      }
    },
    {
      "cell_type": "code",
      "source": [
        "fruits = [\"apple\", \"banana\", \"cherry\", \"kiwi\", \"mango\"]\n",
        "\n",
        "newlist = [x for x in fruits if \"a\" in x] # The first bit is the value output into the list\n",
        "# Second bit after 'for' is what you iterate over\n",
        "# And you can add conditions\n",
        "# You can nested for loop using multiple fors. i.e by using for x in fruits1 for x in fruits2 to\n",
        "# iterate over each fruit2 for each fruit1 etc.\n",
        "\n",
        "print(newlist)"
      ],
      "metadata": {
        "id": "B6epQNk9upWT"
      },
      "execution_count": null,
      "outputs": []
    },
    {
      "cell_type": "markdown",
      "source": [
        "## NumPy"
      ],
      "metadata": {
        "id": "52IvMYr1Y_n_"
      }
    },
    {
      "cell_type": "code",
      "source": [
        "# We can pass a list into the np.array function to create a numpy array. This can be a list of lists,\n",
        "# creating a multi-dimensional array (functions as a matrix)\n",
        "\n",
        "import numpy as np\n",
        "\n",
        "b = np.array([[1,2,3],[4,5,6]])\n",
        "b\n",
        "\n",
        "# Check the dimensions\n",
        "\n",
        "b.shape"
      ],
      "metadata": {
        "colab": {
          "base_uri": "https://localhost:8080/"
        },
        "id": "nBnzpnHmZHnU",
        "outputId": "df664e8f-12cf-443c-de1d-6aa3a0a3c883"
      },
      "execution_count": null,
      "outputs": [
        {
          "output_type": "execute_result",
          "data": {
            "text/plain": [
              "(2, 3)"
            ]
          },
          "metadata": {},
          "execution_count": 9
        }
      ]
    },
    {
      "cell_type": "code",
      "source": [
        "# Check data type inside the np.array\n",
        "\n",
        "b.dtype"
      ],
      "metadata": {
        "id": "AiQsLbwLZ2le"
      },
      "execution_count": null,
      "outputs": []
    },
    {
      "cell_type": "markdown",
      "source": [
        "Integers and float values are allowed in numpy arrays."
      ],
      "metadata": {
        "id": "lTD5DANhZ83p"
      }
    },
    {
      "cell_type": "code",
      "source": [
        "# We can create placeholder arrays, in the event we know the shape of the array we want, but don't yet have\n",
        "# values to fit into said array. We use the np.zeros() function here.\n",
        "\n",
        "c = np.zeros((2,4))\n",
        "print(c)\n",
        "\n",
        "e = np.ones((2,4))\n",
        "print(e)\n",
        "\n",
        "f = np.random.rand(2,3)\n",
        "print(f)"
      ],
      "metadata": {
        "colab": {
          "base_uri": "https://localhost:8080/"
        },
        "id": "fcFcxVAuZ_bJ",
        "outputId": "eff3a5e9-0dc0-4864-8c54-af51452ac36f"
      },
      "execution_count": null,
      "outputs": [
        {
          "output_type": "stream",
          "name": "stdout",
          "text": [
            "[[0. 0. 0. 0.]\n",
            " [0. 0. 0. 0.]]\n",
            "[[1. 1. 1. 1.]\n",
            " [1. 1. 1. 1.]]\n",
            "[[0.23249013 0.9378266  0.65831739]\n",
            " [0.42762632 0.45489757 0.84012978]]\n"
          ]
        }
      ]
    },
    {
      "cell_type": "markdown",
      "source": [
        "### np.arange and np.linspace"
      ],
      "metadata": {
        "id": "bpKfhmVTHjVK"
      }
    },
    {
      "cell_type": "code",
      "source": [
        "g = np.arange(2, 50, 2) # Start, end, increment\n",
        "g\n",
        "\n",
        "h = np.linspace(0, 15, 3) # Start, end, number of values, that's how linspace differs.\n",
        "\n",
        "# So np.arange uses an increment, whereas linspace chooses the number of values in the array as the 3rd param."
      ],
      "metadata": {
        "colab": {
          "base_uri": "https://localhost:8080/"
        },
        "id": "MZdZ4KCEG3M5",
        "outputId": "fc0c6406-94fb-4a72-ec05-dd9e6d4a5356"
      },
      "execution_count": null,
      "outputs": [
        {
          "output_type": "execute_result",
          "data": {
            "text/plain": [
              "array([ 2,  4,  6,  8, 10, 12, 14, 16, 18, 20, 22, 24, 26, 28, 30, 32, 34,\n",
              "       36, 38, 40, 42, 44, 46, 48])"
            ]
          },
          "metadata": {},
          "execution_count": 12
        }
      ]
    },
    {
      "cell_type": "markdown",
      "source": [
        "## Array Operations"
      ],
      "metadata": {
        "id": "NMKWOj0YHssL"
      }
    },
    {
      "cell_type": "code",
      "source": [
        "# The big benefit of numpy is that arithmetic operations happen element-wise, so our\n",
        "# functions are typically always vectorised.\n",
        "\n",
        "# Let's see the effects here.\n",
        "m1 = np.array([[1,2,3],[4,5,6]]) # Remember a matrix will be a list of lists. So [[],[]] structure.\n",
        "m2 = np.array([[5,4,3],[2,1,0]])\n",
        "\n",
        "m1 + m2 # Voila\n",
        "\n",
        "# This could, for example, be used to convert fahrenheit to celsius easily. Just do (m - 31) * 5/9."
      ],
      "metadata": {
        "colab": {
          "base_uri": "https://localhost:8080/"
        },
        "id": "fdZ3Q3ZwHvCL",
        "outputId": "9a66cff1-aff6-41bc-83ab-309e71c89b41"
      },
      "execution_count": null,
      "outputs": [
        {
          "output_type": "execute_result",
          "data": {
            "text/plain": [
              "array([[6, 6, 6],\n",
              "       [6, 6, 6]])"
            ]
          },
          "metadata": {},
          "execution_count": 13
        }
      ]
    },
    {
      "cell_type": "markdown",
      "source": [
        "### The Boolean Array\n",
        "\n",
        "Want to create an array that provides a boolean answer to a condition? Say we want to know how many values of our matrix are less than 5, we can do that easily, and the output will be a matrix."
      ],
      "metadata": {
        "id": "kguHdSh1Im65"
      }
    },
    {
      "cell_type": "code",
      "source": [
        "m3 = np.array([[1,6,4],[4,3,2]])\n",
        "m3 < 5"
      ],
      "metadata": {
        "colab": {
          "base_uri": "https://localhost:8080/"
        },
        "id": "QI6jwVWMIy0b",
        "outputId": "fde33222-de91-4d63-c425-4bf3cf4427db"
      },
      "execution_count": null,
      "outputs": [
        {
          "output_type": "execute_result",
          "data": {
            "text/plain": [
              "array([[ True, False,  True],\n",
              "       [ True,  True,  True]])"
            ]
          },
          "metadata": {},
          "execution_count": 15
        }
      ]
    },
    {
      "cell_type": "markdown",
      "source": [
        "### Matrix Multiplication\n",
        "\n",
        "NumPy supports matrix product, not just elementwise multiplication of matrices. Just use '@' instead of '*'.\n",
        "\n",
        "You can ofcourse use the .shape function to confirm the columns of A match with the rows of B in A@B for example.\n",
        "\n",
        "### What is 'upcasting'?\n",
        "\n",
        "Upcasting is a phenomenon in NumPy where the type of a resulting array will correspond to the more general/less restricted of the two types. The best example is if we add an array of integers to an array of floats, even if some of the floats could in fact be converted themselves to integers, the resulting array will be wholly float values.\n",
        "\n",
        "## Aggregation Functions\n"
      ],
      "metadata": {
        "id": "1IVFoh1-JBXS"
      }
    },
    {
      "cell_type": "code",
      "source": [
        "# We have many aggregation functions\n",
        "\n",
        "array = np.array([1,2,3,4,5,6,7])\n",
        "print(array.sum())\n",
        "print(array.max())\n",
        "print(array.min())\n",
        "print(array.mean())"
      ],
      "metadata": {
        "colab": {
          "base_uri": "https://localhost:8080/"
        },
        "id": "sFRYAeMsL0tl",
        "outputId": "22639b03-ab63-4bbc-f865-8198c542c706"
      },
      "execution_count": null,
      "outputs": [
        {
          "output_type": "stream",
          "name": "stdout",
          "text": [
            "28\n",
            "7\n",
            "1\n",
            "4.0\n"
          ]
        }
      ]
    },
    {
      "cell_type": "markdown",
      "source": [
        "# Rest of notes on Week 1:\n",
        "\n",
        "You can use .reshape() to convert an array to different dimensions, like a list into a matrix.\n",
        "\n",
        "PIL is Python Imaging Library, useful for outputting images.\n",
        "\n",
        "- You can convert images into numpy arrays.\n",
        "\n",
        "np.full() is basically np.ones or np.zeros but you choose the value that fills the array.\n",
        "\n",
        ".astype() can be used to convert an object into another data type, if you think you know better.\n",
        "\n",
        "## Indexing, Slicing and Iterating\n",
        "\n",
        "### Array Indexing\n",
        "\n",
        "Indexing will work differently since you may need to specify extra dimensions. So array[1,1] gives us the element in the 2nd row, 2nd column.\n",
        "\n",
        "There's another way of indexing, like a sort of 'zip' indexing. Where you input the list of rows you want to pull from, and the list of columns you want to pull from. And numpy will elementwise pick elements from the array using the index [i,i]from each list. See below\n"
      ],
      "metadata": {
        "id": "OAIVDLzEMcOG"
      }
    },
    {
      "cell_type": "code",
      "source": [
        "a = np.array([[1,2],[3,4],[5,6]])\n",
        "\n",
        "# Try the normal method of indexing, say we wanmt 1, 4 and 6.\n",
        "\n",
        "print(np.array([a[0,0], a[1,1], a[2,1]]))\n",
        "\n",
        "# Lets try it the other way, we want [0,1,2] as the list of rows, and [0,1,1] as the columns.\n",
        "print(np.array(a[[0,1,2], [0,1,1]]))\n",
        "\n",
        "# Voila, same result."
      ],
      "metadata": {
        "colab": {
          "base_uri": "https://localhost:8080/"
        },
        "id": "Qztwc3PrPTPa",
        "outputId": "33202c55-05d5-4e56-b375-bf7b870413c3"
      },
      "execution_count": null,
      "outputs": [
        {
          "output_type": "stream",
          "name": "stdout",
          "text": [
            "[1 4 6]\n",
            "[1 4 6]\n"
          ]
        }
      ]
    },
    {
      "cell_type": "markdown",
      "source": [
        "### Boolean Indexing/Masking\n",
        "\n",
        "This is one of the greatest tools, that constitutes the largest tool you use within the pandas toolkit, from NumPy."
      ],
      "metadata": {
        "id": "yI9KyliPQDcg"
      }
    },
    {
      "cell_type": "code",
      "source": [
        "# Say we want to return all values from the np.array above (a), that are greater than 5.\n",
        "\n",
        "print(a[a>5])\n",
        "\n",
        "# What's happening here is that the output of a>5 (the boolean array) is being masked onto\n",
        "# the original array a to only collect the values in the position where a>5 matrix is TRUE.\n",
        "\n",
        "# See:\n",
        "print(a)\n",
        "print(a>5)"
      ],
      "metadata": {
        "colab": {
          "base_uri": "https://localhost:8080/"
        },
        "id": "lc4qI0pvQTCq",
        "outputId": "d01b073d-8127-474f-dbb7-d722ab8a7dd6"
      },
      "execution_count": null,
      "outputs": [
        {
          "output_type": "stream",
          "name": "stdout",
          "text": [
            "[6]\n",
            "[[1 2]\n",
            " [3 4]\n",
            " [5 6]]\n",
            "[[False False]\n",
            " [False False]\n",
            " [False  True]]\n"
          ]
        }
      ]
    },
    {
      "cell_type": "markdown",
      "source": [
        "### Slicing\n",
        "\n",
        "This works largely as before, for multi-dimensional arrays it works similarly too. Let's see multi-dimensional slicing below:"
      ],
      "metadata": {
        "id": "r32IlvkwQ_N2"
      }
    },
    {
      "cell_type": "code",
      "source": [
        "a = np.array([[1,2,3,4], [5,6,7,8], [9,10,11,12]])\n",
        "a[:2, 1:3] # The first two rows, but only from the 2nd, 3rd columns (remember index 3 not included)"
      ],
      "metadata": {
        "colab": {
          "base_uri": "https://localhost:8080/"
        },
        "id": "ckhazzdzRL4P",
        "outputId": "9ac19a4a-7dbc-49bc-9747-29ba77c0f70f"
      },
      "execution_count": null,
      "outputs": [
        {
          "output_type": "execute_result",
          "data": {
            "text/plain": [
              "array([[2, 3],\n",
              "       [6, 7]])"
            ]
          },
          "metadata": {},
          "execution_count": 25
        }
      ]
    },
    {
      "cell_type": "markdown",
      "source": [
        "#### Passing by Reference\n",
        "\n",
        "Recall the difference between passing by reference and passing by value. Any variable 'passed by reference' will mirror any edits back to the original variable it originated from.\n",
        "\n",
        "An example of an object that is passed by reference is a slice of an array. Modifying the sub-array will modify the original array.\n",
        "\n",
        "This can sometimes get confusing when you have a slice that doesn't contain a particular row/column, as if we create a sub-array without row 1 of an original array and make an edit to subarray[0,0] = 2, this would edit the original array value in index array[1,0] = 2.\n",
        "\n",
        "### Trying NumPy with Datasets\n"
      ],
      "metadata": {
        "id": "xAY2bG3IPh__"
      }
    },
    {
      "cell_type": "code",
      "source": [
        "# To load a dataset in Numpy, we can use the genfromtxt() function. We can specify data file name, delimiter\n",
        "# (which is optional but often used), and number of rows to skip if we have a header row, hence it is 1 here\n",
        "\n",
        "# The genfromtxt() function has a parameter called dtype for specifying data types of each column this\n",
        "# parameter is optional. Without specifying the types, all types will be casted the same to the more\n",
        "# general/precise type\n",
        "\n",
        "wines = np.genfromtxt(\"datasets/winequality-red.csv\", delimiter=\";\", skip_header=1)\n",
        "wines"
      ],
      "metadata": {
        "id": "bul-j0WvRF1O"
      },
      "execution_count": null,
      "outputs": []
    },
    {
      "cell_type": "markdown",
      "source": [
        "# Manipulating Text with Regular Expression (RegEx)\n",
        "\n",
        "Pattern Matching in Strings using Regular Expression (regexes) is very useful as a Data Scientist if you want to analyse text data for patterns, spot complex patterns in source data, or to clean text data using string splitting to separate patterns in the data.\n",
        "\n"
      ],
      "metadata": {
        "id": "-wUTlP9Dr8v1"
      }
    },
    {
      "cell_type": "code",
      "source": [
        "# First import the re module, the Python standard regex library.\n",
        "import re\n",
        "\n",
        "# Here's an example\n",
        "text = 'This is a string, how great.'\n",
        "\n",
        "# Search for 'great' in the string\n",
        "if re.search(\"great\", text): # 1st param is the pattern, 2nd the data to search\n",
        "  print(\"Something was great!\")\n",
        "else:\n",
        "  print(\"Aww, it wasn't so great.\")\n",
        "\n",
        "# So search has a boolean output here. Very useful."
      ],
      "metadata": {
        "colab": {
          "base_uri": "https://localhost:8080/"
        },
        "id": "daZB_rmotUoG",
        "outputId": "d0659413-ff17-455d-8f8a-2370f41d60f3"
      },
      "execution_count": null,
      "outputs": [
        {
          "output_type": "stream",
          "name": "stdout",
          "text": [
            "Something was great!\n"
          ]
        }
      ]
    },
    {
      "cell_type": "code",
      "source": [
        "# We don't just have to search for conditionals, we can segment strings. The method that\n",
        "# regex uses here is called tokenizing - this is a core activity in Natural Language Processing (NLP)\n",
        "\n",
        "# The findall() and split() functions will parse the string for us and return chunks. See example:\n",
        "text = 'Amy works diligently. Amy gets good grades. Our student Amy is successful.'\n",
        "\n",
        "re.split('Amy', text)\n",
        "\n",
        "# You'll notice split returned an empty string, followed by statements about Amy. We can use\n",
        "# findall() to county how many times we talked about Amy.\n",
        "print(re.findall('A[mo]y', text))\n",
        "len(re.findall('Amy', text))\n",
        "\n",
        "np.reshape(20,)"
      ],
      "metadata": {
        "colab": {
          "base_uri": "https://localhost:8080/"
        },
        "id": "u5XnwOlGt0PK",
        "outputId": "0220e0f6-fbed-4f50-f429-c882ff336e7c"
      },
      "execution_count": null,
      "outputs": [
        {
          "output_type": "stream",
          "name": "stdout",
          "text": [
            "['Amy', 'Amy', 'Amy']\n"
          ]
        },
        {
          "output_type": "execute_result",
          "data": {
            "text/plain": [
              "3"
            ]
          },
          "metadata": {},
          "execution_count": 7
        }
      ]
    },
    {
      "cell_type": "code",
      "source": [
        "# Recap:\n",
        "\n",
        "re.search() # Boolean search for a particular string/pattern in an input string.\n",
        "\n",
        "re.split() # Separates the strings split by a delimiter and outputs them in a list\n",
        "\n",
        "re.findall() # Finds all instances of a particular string. Lots of different wildcards/options\n",
        "# to narrow the search using logic."
      ],
      "metadata": {
        "id": "KkA5uNr23YmD"
      },
      "execution_count": null,
      "outputs": []
    },
    {
      "cell_type": "code",
      "source": [
        "# Extra re.findall() methods:\n",
        "\n",
        "grades = 'ACAAAABCBCBAA'\n",
        "\n",
        "print(re.findall(\"[AB]\", grades)) # The [] acts as an OR operator, called set operator.\n",
        "\n",
        "print(re.findall(\"^A\", grades)) # This will find any string starting with A, called caret operator.\n",
        "\n",
        "print(re.findall(\"[^A]\", grades)) # 'Negating' all A's in the string, combining set and caret operator. Essentially a complement.\n",
        "\n",
        "print(re.findall(\"[A][B-E]\", grades)) # Any string that starts with A, followed by a B through to E (so effectively BCDE).\n",
        "\n",
        "print(re.findall(\"AB|AC\", grades)) # Another way of writing the above (Pipe operator |)\n"
      ],
      "metadata": {
        "colab": {
          "base_uri": "https://localhost:8080/",
          "height": 252
        },
        "id": "JCkqVJqf3wsu",
        "outputId": "315839fe-87cd-4f48-98ab-75b1b5778031"
      },
      "execution_count": null,
      "outputs": [
        {
          "output_type": "error",
          "ename": "NameError",
          "evalue": "ignored",
          "traceback": [
            "\u001b[0;31m---------------------------------------------------------------------------\u001b[0m",
            "\u001b[0;31mNameError\u001b[0m                                 Traceback (most recent call last)",
            "\u001b[0;32m<ipython-input-1-010b875f1c80>\u001b[0m in \u001b[0;36m<cell line: 5>\u001b[0;34m()\u001b[0m\n\u001b[1;32m      3\u001b[0m \u001b[0mgrades\u001b[0m \u001b[0;34m=\u001b[0m \u001b[0;34m'ACAAAABCBCBAA'\u001b[0m\u001b[0;34m\u001b[0m\u001b[0;34m\u001b[0m\u001b[0m\n\u001b[1;32m      4\u001b[0m \u001b[0;34m\u001b[0m\u001b[0m\n\u001b[0;32m----> 5\u001b[0;31m \u001b[0mprint\u001b[0m\u001b[0;34m(\u001b[0m\u001b[0mre\u001b[0m\u001b[0;34m.\u001b[0m\u001b[0mfindall\u001b[0m\u001b[0;34m(\u001b[0m\u001b[0;34m\"[AB]\"\u001b[0m\u001b[0;34m,\u001b[0m \u001b[0mgrades\u001b[0m\u001b[0;34m)\u001b[0m\u001b[0;34m)\u001b[0m \u001b[0;31m# The [] acts as an OR operator, called set operator.\u001b[0m\u001b[0;34m\u001b[0m\u001b[0;34m\u001b[0m\u001b[0m\n\u001b[0m\u001b[1;32m      6\u001b[0m \u001b[0;34m\u001b[0m\u001b[0m\n\u001b[1;32m      7\u001b[0m \u001b[0mprint\u001b[0m\u001b[0;34m(\u001b[0m\u001b[0mre\u001b[0m\u001b[0;34m.\u001b[0m\u001b[0mfindall\u001b[0m\u001b[0;34m(\u001b[0m\u001b[0;34m\"^A\"\u001b[0m\u001b[0;34m,\u001b[0m \u001b[0mgrades\u001b[0m\u001b[0;34m)\u001b[0m\u001b[0;34m)\u001b[0m \u001b[0;31m# This will find any string starting with A, called caret operator.\u001b[0m\u001b[0;34m\u001b[0m\u001b[0;34m\u001b[0m\u001b[0m\n",
            "\u001b[0;31mNameError\u001b[0m: name 're' is not defined"
          ]
        }
      ]
    },
    {
      "cell_type": "markdown",
      "source": [
        "### Regex - Quantifiers\n",
        "\n",
        "Quantifiers are the number of times you want a pattern to be matched in order to match. The most basic quantifier is expressed as e{min,max}, where e is the expression or character we are matching, min is the minimum number of times the character can be matched, and max is the maximum number of times the character can be matched.\n",
        "\n",
        "'\\w' means any character, including digits and numbers. (w for Wildcard I assume), so you don't have to use '[a-zA-Z]' to find all letters.\n",
        "\n",
        "To make quantifiers look nicer, and to shorten the syntax. We can use * as a kind of {0, infinity} quantifier, i.e match the character any number of times. ? or + to match one or more times, so they must match at least once.\n",
        "\n",
        "There are also shorthand ways to signal character, digit, whitespace etc:\n",
        "\n",
        "Uppercase form negates the lowercase form.\n",
        "\n",
        "- \\w any word character, \\W any non-word character\n",
        "- \\s white space, \\S anything but white space, strips whitespace.\n",
        "- \\d digit character, \\D non-digit character.\n",
        "\n",
        "I'm sure there are others.\n",
        "\n"
      ],
      "metadata": {
        "id": "xiyMTtpv53vW"
      }
    },
    {
      "cell_type": "markdown",
      "source": [
        "#### TESTING STUFF BELOW:"
      ],
      "metadata": {
        "id": "5pNTjkwr3YHe"
      }
    },
    {
      "cell_type": "code",
      "source": [
        "# Testing this to see if this is passed by referencing\n",
        "\n",
        "a = np.array([[0,1,2],[1,2,3]])\n",
        "b = a # Passed by referencing\n",
        "\n",
        "b[0,0] = 5\n",
        "a"
      ],
      "metadata": {
        "colab": {
          "base_uri": "https://localhost:8080/"
        },
        "id": "dycjc9Ng1Slu",
        "outputId": "c4d7cc58-a2a9-4b78-8775-7419b785597d"
      },
      "execution_count": null,
      "outputs": [
        {
          "output_type": "execute_result",
          "data": {
            "text/plain": [
              "array([[5, 1, 2],\n",
              "       [1, 2, 3]])"
            ]
          },
          "metadata": {},
          "execution_count": 16
        }
      ]
    },
    {
      "cell_type": "code",
      "source": [
        "import re\n",
        "s = 'ACAABAACAAAB'\n",
        "len(re.findall('A{1,2}', s)) # Looking for instances of one A or two A's consecutively.\n",
        "\n"
      ],
      "metadata": {
        "colab": {
          "base_uri": "https://localhost:8080/"
        },
        "id": "eVqLvD5B2WkC",
        "outputId": "26f011ef-917a-4427-c1ff-d3663ae55512"
      },
      "execution_count": null,
      "outputs": [
        {
          "output_type": "execute_result",
          "data": {
            "text/plain": [
              "5"
            ]
          },
          "metadata": {},
          "execution_count": 17
        }
      ]
    }
  ]
}