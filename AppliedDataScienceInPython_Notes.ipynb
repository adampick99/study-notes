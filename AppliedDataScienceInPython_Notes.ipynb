{
  "nbformat": 4,
  "nbformat_minor": 0,
  "metadata": {
    "colab": {
      "provenance": [],
      "authorship_tag": "ABX9TyOOKoN1GBVtsgR1rUB+RQkI",
      "include_colab_link": true
    },
    "kernelspec": {
      "name": "python3",
      "display_name": "Python 3"
    },
    "language_info": {
      "name": "python"
    }
  },
  "cells": [
    {
      "cell_type": "markdown",
      "metadata": {
        "id": "view-in-github",
        "colab_type": "text"
      },
      "source": [
        "<a href=\"https://colab.research.google.com/github/adampick99/study-notes/blob/main/AppliedDataScienceInPython_Notes.ipynb\" target=\"_parent\"><img src=\"https://colab.research.google.com/assets/colab-badge.svg\" alt=\"Open In Colab\"/></a>"
      ]
    },
    {
      "cell_type": "markdown",
      "source": [
        "# Applied Data Science in Python - University of Michigan\n",
        "\n",
        "Start: 17/06/2023 14:20\n",
        "\n",
        "## Week 1 - Fundamentals of Data Manipulation with Python\n",
        "\n",
        "This course will introduce the learner to the basics of the python programming environment, including fundamental python programming techniques such as l**ambdas, reading and manipulating csv files, and the numpy library**. The course will introduce data manipulation and cleaning techniques using the popular python pandas data science library and introduce the a**bstraction of the Series and\n",
        "DataFrame as the central data structures for data analysis**, along with tutorials on how to use functions such as** groupby, merge, and pivot tables** effectively. By the end of this course, students **will be able to take tabular data, clean it, manipulate it, and run basic inferential statistical analyses."
      ],
      "metadata": {
        "id": "TzzKp7oPl_Gp"
      }
    },
    {
      "cell_type": "markdown",
      "source": [
        "## Python Functions\n",
        "\n",
        "You can create a function with optional parameters by defining the input as var = None. This declaration must happen AFTER the required variables in the def."
      ],
      "metadata": {
        "id": "zR2-zMkWnRKE"
      }
    },
    {
      "cell_type": "code",
      "source": [
        "def add_numbers(x, y, z=None): # This can add a maximum of 3 numbers, and a minimum of 2.\n",
        "  if z == None:\n",
        "    return x+y\n",
        "  else:\n",
        "    return x+y+z"
      ],
      "metadata": {
        "id": "6r_GVJkAno5n"
      },
      "execution_count": null,
      "outputs": []
    },
    {
      "cell_type": "code",
      "source": [
        "add_numbers(2,4)"
      ],
      "metadata": {
        "colab": {
          "base_uri": "https://localhost:8080/"
        },
        "id": "_N1S4BaCoOm8",
        "outputId": "b399ae7f-d7ec-407e-c55d-f3853270886a"
      },
      "execution_count": null,
      "outputs": [
        {
          "output_type": "execute_result",
          "data": {
            "text/plain": [
              "6"
            ]
          },
          "metadata": {},
          "execution_count": 6
        }
      ]
    },
    {
      "cell_type": "markdown",
      "source": [
        "The implication of assigning a variable z = None, it means that this is the default value used if this parameter isn't passed through the function. It can be manually chosen as None or you can simply not enter any value."
      ],
      "metadata": {
        "id": "mlO7PSa-pjlZ"
      }
    },
    {
      "cell_type": "markdown",
      "source": [
        "The type() function can be used to check the data type of a python object. Tuples, lists and dictionaries are what we care about.\n",
        "\n",
        "A tuple is a sequence of variables which is immutable (can't be changed after declaring).\n",
        "\n",
        "Tuples are declared by using ( ), lists by [ ], and dictionaries by { }, for example: {key: value, key2: value}.\n",
        "\n",
        "key, key2 can be strings, float, integers, you name it (I think).\n",
        "\n",
        "## Manipulating Strings\n",
        "### Slicing\n",
        "\n",
        "In Python, the indexing operator [0, 5] will give 5 different outputs, but the value in index [5] won't be output, it's exclusive, not inclusive.\n",
        "\n",
        "This is the same for going backwards. [-5:-3] will output the 5th last and 4th last values, but not the 3rd last as it's exclusive.\n",
        "\n",
        "[:3] is everything up to the 3rd index, without the 3rd index variable.\n",
        "\n",
        "[3:] is everything from and including the 3rd index value (4th value as indexing begins at 0).\n",
        "\n",
        "### Split - Regular Expression Evaluation\n",
        "(Split strings based on substrings)\n",
        "\n"
      ],
      "metadata": {
        "id": "llr-NPRhrKrP"
      }
    },
    {
      "cell_type": "code",
      "source": [
        "firstname = 'Christopher'\n",
        "lastname = 'Brooks'\n",
        "\n",
        "print(firstname + ' ' + lastname)\n",
        "print(firstname * 3)\n",
        "print('Chris' in firstname) # The in operator can be used to search in a string, and here we're searching for 'Chris'"
      ],
      "metadata": {
        "colab": {
          "base_uri": "https://localhost:8080/"
        },
        "id": "A3gQ031dt1ww",
        "outputId": "fb4a2483-c772-4e96-b622-9674fe67559d"
      },
      "execution_count": null,
      "outputs": [
        {
          "output_type": "stream",
          "name": "stdout",
          "text": [
            "Christopher Brooks\n",
            "ChristopherChristopherChristopher\n",
            "True\n"
          ]
        }
      ]
    },
    {
      "cell_type": "code",
      "source": [
        "firstname = 'Christopher Arthur Hansen Brooks'.split(' ')[0]  # [0] selects the first element of the list\n",
        "lastname = 'Christopher Arthur Hansen Brooks'.split(' ')[-1]  # [-1] selects the last element of the list\n",
        "print(firstname)\n",
        "print(lastname)"
      ],
      "metadata": {
        "colab": {
          "base_uri": "https://localhost:8080/"
        },
        "id": "M0Hl9l8puAEe",
        "outputId": "f8ad6b9f-72a1-4b75-a914-c0cd9ed22ae7"
      },
      "execution_count": null,
      "outputs": [
        {
          "output_type": "stream",
          "name": "stdout",
          "text": [
            "Christopher\n",
            "Brooks\n"
          ]
        }
      ]
    },
    {
      "cell_type": "markdown",
      "source": [
        "Make sure to convert objects to strings before concatenating using the + 'string' method."
      ],
      "metadata": {
        "id": "D_f_X1juuFQ9"
      }
    },
    {
      "cell_type": "markdown",
      "source": [
        "## Dictionaries\n",
        "\n",
        "Dictionaries are objects that store keys and values. They are defined by using curly brackets { }. You can use the **.values()** method to output just the values, not the keys. To output just the keys, use **.keys()**. To output both, use **.items()**.\n",
        "\n",
        "You retrieve the associated value assigned to a label/key by simply indexing at the label/key value. So if dict = {'Jeff': 21} is the dictionary, then dict['Jeff'] returns 21."
      ],
      "metadata": {
        "id": "yCWWPP_uGnU-"
      }
    },
    {
      "cell_type": "code",
      "source": [
        "x = {'Christopher Brooks': 'brooksch@umich.edu', 'Bill Gates': 'billg@microsoft.com'}\n",
        "\n",
        "for key, value in x.items():\n",
        "    print(key)\n",
        "    print(value)\n",
        "\n",
        "# This will output each key, followed by it's corresponding value."
      ],
      "metadata": {
        "colab": {
          "base_uri": "https://localhost:8080/"
        },
        "id": "6sOk8_nNZ3om",
        "outputId": "8bed820c-2b88-4d5e-bf28-92578986fcc2"
      },
      "execution_count": null,
      "outputs": [
        {
          "output_type": "stream",
          "name": "stdout",
          "text": [
            "Christopher Brooks\n",
            "brooksch@umich.edu\n",
            "Bill Gates\n",
            "billg@microsoft.com\n"
          ]
        }
      ]
    },
    {
      "cell_type": "markdown",
      "source": [
        "## Tuples\n",
        "\n",
        "You can create tuples (not dictionaries) from already created variables. Remember, these are immutable. See below:"
      ],
      "metadata": {
        "id": "xNEBepcfaWz1"
      }
    },
    {
      "cell_type": "code",
      "source": [
        "# Say we have a list\n",
        "list = ('Tyrion', 'Lannister', 'Targaryen')\n",
        "\n",
        "# We turn this list into a tuple by declaring the tuple key name and feeding the list in.\n",
        "fore, sur, house = list"
      ],
      "metadata": {
        "id": "LF6l6mVtaZPa"
      },
      "execution_count": 1,
      "outputs": []
    },
    {
      "cell_type": "markdown",
      "source": [
        "## More on String Manipulation\n",
        "\n",
        "We can use the format() function to fill in string templates using other objects. Take a look:\n",
        "\n"
      ],
      "metadata": {
        "id": "4JJ6PROPbx2H"
      }
    },
    {
      "cell_type": "code",
      "source": [
        "sales_record = {\n",
        "    'price': 3.24,\n",
        "    'num_items': 4,\n",
        "    'person': 'Chris'}\n",
        "\n",
        "sales_statement = '{} bought {} item(s) at a price of {} each for a total of {}'\n",
        "\n",
        "# The format function works on a template string to replace sections of the string with values/strings from another Python object (sales_record here)\n",
        "print(sales_statement.format(sales_record['person'],\n",
        "                             sales_record['num_items'],\n",
        "                             sales_record['price'],\n",
        "                             sales_record['num_items'] * sales_record['price']))"
      ],
      "metadata": {
        "colab": {
          "base_uri": "https://localhost:8080/"
        },
        "id": "lFT7GqtmcAGg",
        "outputId": "f33c3da8-c874-4097-9e6d-787c1e397369"
      },
      "execution_count": null,
      "outputs": [
        {
          "output_type": "stream",
          "name": "stdout",
          "text": [
            "Chris bought 4 item(s) at a price of 3.24 each for a total of 12.96\n"
          ]
        }
      ]
    },
    {
      "cell_type": "markdown",
      "source": [
        "## Reading and Writing CSV Files\n",
        "\n",
        "Let's import our datafile mpg.csv, which contains fuel economy data for 234 cars.\n",
        "\n",
        "mpg : miles per gallon\n",
        "class : car classification\n",
        "cty : city mpg\n",
        "cyl : # of cylinders\n",
        "displ : engine displacement in liters\n",
        "drv : f = front-wheel drive, r = rear wheel drive, 4 = 4wd\n",
        "fl : fuel (e = ethanol E85, d = diesel, r = regular, p = premium, c = CNG)\n",
        "hwy : highway mpg\n",
        "manufacturer : automobile manufacturer\n",
        "model : model of car\n",
        "trans : type of transmission\n",
        "year : model year"
      ],
      "metadata": {
        "id": "XkySGAB1kHbu"
      }
    },
    {
      "cell_type": "code",
      "source": [
        "import csv\n",
        "\n",
        "% precision 2\n",
        "\n",
        "with open('datasets/mpg.csv') as csvfile:\n",
        "    mpg = list(csv.DictReader(csvfile))\n",
        "\n",
        "mpg[:3]  # The first three dictionaries in our list."
      ],
      "metadata": {
        "id": "kjOvR2_okNxF"
      },
      "execution_count": null,
      "outputs": []
    },
    {
      "cell_type": "markdown",
      "source": [
        "**csv.Dictreader has read in each row of our csv file as a dictionary.** len shows that our list is comprised of 234 dictionaries. The column i becomes the key for the i'th row value."
      ],
      "metadata": {
        "id": "u1QAABSAkapX"
      }
    },
    {
      "cell_type": "markdown",
      "source": [
        "## Advanced Python Objects\n",
        "\n",
        "### Object Oriented Programming\n",
        "\n",
        "Python Documentation will explain this much better, but OOP isn't really worth studying yet for Data Science.\n",
        "\n",
        "### Maps - map()\n",
        "\n",
        "The map function is one of the bases for functional programming in Python.\n",
        "\n",
        "map(function, iterable, ...)\n",
        "\n",
        "This function allows you to apply a function over each iterate of the iteration.\n",
        "\n",
        "The map function returns a map object, not just the output values, so it's not necessarily outputting what you want to see immediately - you can iterate over the map object to find each value however. It's commonly used when working with Big Data because it has good memory management.\n",
        "\n",
        "\n",
        "## List Comprehensions\n",
        "\n",
        "List comprehension offers a shorter syntax when you want to create a new list based on the values of an existing list.\n",
        "\n",
        "Example:\n",
        "\n",
        "Based on a list of fruits, you want a new list, containing only the fruits with the letter \"a\" in the name.\n",
        "\n",
        "Without list comprehension you will have to write a for statement with a conditional test inside:"
      ],
      "metadata": {
        "id": "D0cwl0Zjk-2B"
      }
    },
    {
      "cell_type": "code",
      "source": [
        "fruits = [\"apple\", \"banana\", \"cherry\", \"kiwi\", \"mango\"]\n",
        "newlist = []\n",
        "\n",
        "for x in fruits:\n",
        "  if \"a\" in x:\n",
        "    newlist.append(x)\n",
        "\n",
        "print(newlist)"
      ],
      "metadata": {
        "id": "4_Pi9gX-um-H"
      },
      "execution_count": null,
      "outputs": []
    },
    {
      "cell_type": "markdown",
      "source": [
        "With list comprehension you can do all that with only one line of code:"
      ],
      "metadata": {
        "id": "LDkMAncNuoeG"
      }
    },
    {
      "cell_type": "code",
      "source": [
        "fruits = [\"apple\", \"banana\", \"cherry\", \"kiwi\", \"mango\"]\n",
        "\n",
        "newlist = [x for x in fruits if \"a\" in x] # The first bit is the value output into the list\n",
        "# Second bit after 'for' is what you iterate over\n",
        "# And you can add conditions\n",
        "# You can nested for loop using multiple fors. i.e by using for x in fruits1 for x in fruits2 to\n",
        "# iterate over each fruit2 for each fruit1 etc.\n",
        "\n",
        "print(newlist)"
      ],
      "metadata": {
        "id": "B6epQNk9upWT"
      },
      "execution_count": null,
      "outputs": []
    }
  ]
}